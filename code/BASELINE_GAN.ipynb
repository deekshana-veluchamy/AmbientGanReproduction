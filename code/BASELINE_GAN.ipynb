{
  "nbformat": 4,
  "nbformat_minor": 0,
  "metadata": {
    "colab": {
      "name": "IGNORE BASELINE GAN.ipynb",
      "version": "0.3.2",
      "provenance": [],
      "collapsed_sections": [],
      "toc_visible": true
    },
    "kernelspec": {
      "name": "python3",
      "display_name": "Python 3"
    },
    "accelerator": "GPU"
  },
  "cells": [
    {
      "cell_type": "markdown",
      "metadata": {
        "id": "1goe0ym82clt",
        "colab_type": "text"
      },
      "source": [
        "# Import Prequisites"
      ]
    },
    {
      "cell_type": "code",
      "metadata": {
        "id": "ty1SR-UkTrmV",
        "colab_type": "code",
        "colab": {}
      },
      "source": [
        "# prerequisites\n",
        "from torch.autograd import Variable    \n",
        "import os, time\n",
        "import matplotlib.pyplot as plt\n",
        "import itertools\n",
        "import pickle\n",
        "import imageio\n",
        "import torch\n",
        "import torch.nn as nn\n",
        "import torch.nn.functional as F\n",
        "import torch.optim as optim\n",
        "from torchvision import datasets, transforms\n",
        "from torch.autograd import Variable\n",
        "#import torchbearer\n",
        "import torchvision\n",
        "from torchvision.transforms import ToTensor\n",
        "from skimage import color, data, restoration\n",
        "from scipy.signal import convolve2d\n",
        "from PIL import Image\n",
        "import glob\n",
        "from scipy.ndimage.filters import gaussian_filter\n",
        "import numpy as np\n",
        "import random \n",
        "import torch.utils.data as data\n",
        "from astropy.convolution import Gaussian2DKernel\n",
        "import cv2\n",
        "from torch.utils.data import ConcatDataset\n",
        "from torchvision.utils import save_image\n",
        "# Device configuration\n",
        "device = torch.device('cuda' if torch.cuda.is_available() else 'cpu')\n",
        "from torch.utils.data import Dataset, DataLoader\n"
      ],
      "execution_count": 0,
      "outputs": []
    },
    {
      "cell_type": "code",
      "metadata": {
        "id": "_q40rPmEYTiJ",
        "colab_type": "code",
        "outputId": "9533fa80-36b3-4a06-a9c2-213e35ad73be",
        "colab": {
          "base_uri": "https://localhost:8080/",
          "height": 126
        }
      },
      "source": [
        "from google.colab import drive\n",
        "drive.mount('/content/drive')"
      ],
      "execution_count": 0,
      "outputs": [
        {
          "output_type": "stream",
          "text": [
            "Go to this URL in a browser: https://accounts.google.com/o/oauth2/auth?client_id=947318989803-6bn6qk8qdgf4n4g3pfee6491hc0brc4i.apps.googleusercontent.com&redirect_uri=urn%3Aietf%3Awg%3Aoauth%3A2.0%3Aoob&scope=email%20https%3A%2F%2Fwww.googleapis.com%2Fauth%2Fdocs.test%20https%3A%2F%2Fwww.googleapis.com%2Fauth%2Fdrive%20https%3A%2F%2Fwww.googleapis.com%2Fauth%2Fdrive.photos.readonly%20https%3A%2F%2Fwww.googleapis.com%2Fauth%2Fpeopleapi.readonly&response_type=code\n",
            "\n",
            "Enter your authorization code:\n",
            "··········\n",
            "Mounted at /content/drive\n"
          ],
          "name": "stdout"
        }
      ]
    },
    {
      "cell_type": "markdown",
      "metadata": {
        "id": "cmwb9Flof6D-",
        "colab_type": "text"
      },
      "source": [
        "# Get Data"
      ]
    },
    {
      "cell_type": "code",
      "metadata": {
        "id": "nkSWLJFzuzOB",
        "colab_type": "code",
        "colab": {}
      },
      "source": [
        "import os\n",
        " \n",
        "'''\n",
        "    For the given path, get the List of all files in the directory tree \n",
        "'''\n",
        "def getListOfFiles(dirName):\n",
        "    # create a list of file and sub directories \n",
        "    # names in the given directory \n",
        "    listOfFile = os.listdir(dirName)\n",
        "    allFiles = list()\n",
        "    # Iterate over all the entries\n",
        "    for entry in listOfFile:\n",
        "        # Create full path\n",
        "        fullPath = os.path.join(dirName, entry)\n",
        "        # If entry is a directory then get the list of files in this directory \n",
        "        if os.path.isdir(fullPath):\n",
        "            allFiles = allFiles + getListOfFiles(fullPath)\n",
        "        else:\n",
        "            allFiles.append(fullPath)\n",
        "                \n",
        "    return allFiles  "
      ],
      "execution_count": 0,
      "outputs": []
    },
    {
      "cell_type": "markdown",
      "metadata": {
        "id": "sL8VTautuwwg",
        "colab_type": "text"
      },
      "source": [
        "## Transformed images are saved before hand, and read from google drive folders to hasten learning process"
      ]
    },
    {
      "cell_type": "code",
      "metadata": {
        "id": "_iWf4JKpuEiZ",
        "colab_type": "code",
        "colab": {}
      },
      "source": [
        "\n",
        "dirName = '/content/drive/My Drive/p_0.8/transformed_block_inverse_0.8'\n",
        "# Get the list of all files in directory tree at given path\n",
        "listOfFiles = getListOfFiles(dirName)"
      ],
      "execution_count": 0,
      "outputs": []
    },
    {
      "cell_type": "code",
      "metadata": {
        "id": "2bSkOmbvuG3p",
        "colab_type": "code",
        "colab": {}
      },
      "source": [
        "import re\n",
        "\n",
        "def atoi(text):\n",
        "    return int(text) if text.isdigit() else text\n",
        "\n",
        "def natural_keys(text):\n",
        "    '''\n",
        "    alist.sort(key=natural_keys) sorts in human order\n",
        "    http://nedbatchelder.com/blog/200712/human_sorting.html\n",
        "    (See Toothy's implementation in the comments)\n",
        "    '''\n",
        "    return [ atoi(c) for c in re.split(r'(\\d+)', text) ]\n",
        "\n",
        "\n",
        "listOfFiles.sort(key=natural_keys)\n",
        "#print(listOfFiles)"
      ],
      "execution_count": 0,
      "outputs": []
    },
    {
      "cell_type": "code",
      "metadata": {
        "id": "TJ_fe6fTuKgp",
        "colab_type": "code",
        "outputId": "c0459301-f530-4f03-f78f-1887a3413c66",
        "colab": {
          "base_uri": "https://localhost:8080/",
          "height": 35
        }
      },
      "source": [
        "len(listOfFiles)"
      ],
      "execution_count": 0,
      "outputs": [
        {
          "output_type": "execute_result",
          "data": {
            "text/plain": [
              "38904"
            ]
          },
          "metadata": {
            "tags": []
          },
          "execution_count": 11
        }
      ]
    },
    {
      "cell_type": "markdown",
      "metadata": {
        "id": "lDFr1nrAvCD7",
        "colab_type": "text"
      },
      "source": [
        "## To ensure we''re reading the the right label for each image based on their index"
      ]
    },
    {
      "cell_type": "code",
      "metadata": {
        "id": "0ap8X8-muNET",
        "colab_type": "code",
        "colab": {}
      },
      "source": [
        "indexes = []\n",
        "def get_im_indexes(lis):\n",
        "  for element in lis:\n",
        "    \n",
        "    pref = '/content/drive/My Drive/p_0.8/transformed_block_inverse_0.8/transformed_block_p=0.8_index='\n",
        "    suff = '.pt'\n",
        "    x = element[len(pref):]\n",
        "    x = x[:-len(suff)]\n",
        "    indexes.append(int(x))\n",
        "  return indexes "
      ],
      "execution_count": 0,
      "outputs": []
    },
    {
      "cell_type": "code",
      "metadata": {
        "id": "FepSlS6OxDy5",
        "colab_type": "code",
        "colab": {}
      },
      "source": [
        "get_im_indexes(listOfFiles)"
      ],
      "execution_count": 0,
      "outputs": []
    },
    {
      "cell_type": "code",
      "metadata": {
        "id": "rtLcSnuuzFLA",
        "colab_type": "code",
        "outputId": "c3941402-57a8-44f0-ba4c-614a6d12d95b",
        "colab": {
          "base_uri": "https://localhost:8080/",
          "height": 35
        }
      },
      "source": [
        "import numpy as np\n",
        "data = np.load('/content/drive/My Drive/targets.npy',allow_pickle=True)\n",
        "#print(data.item())\n",
        "print(len(data.item()))"
      ],
      "execution_count": 0,
      "outputs": [
        {
          "output_type": "stream",
          "text": [
            "38904\n"
          ],
          "name": "stdout"
        }
      ]
    },
    {
      "cell_type": "code",
      "metadata": {
        "id": "KhArWyH4zIa3",
        "colab_type": "code",
        "colab": {}
      },
      "source": [
        "list_of_labels_array_form = list(data[()].values())"
      ],
      "execution_count": 0,
      "outputs": []
    },
    {
      "cell_type": "code",
      "metadata": {
        "id": "g_HoVeIzzKzg",
        "colab_type": "code",
        "outputId": "af359942-4bfc-436a-b8c5-bf9fff7e147a",
        "colab": {
          "base_uri": "https://localhost:8080/",
          "height": 52
        }
      },
      "source": [
        " \n",
        "Labels = torch.stack([torch.tensor(classlabel) for c,classlabel in enumerate(list_of_labels_array_form) if c in indexes])\n",
        "\n",
        "print(len(Labels))\n",
        "print(type(Labels))"
      ],
      "execution_count": 0,
      "outputs": [
        {
          "output_type": "stream",
          "text": [
            "38904\n",
            "<class 'torch.Tensor'>\n"
          ],
          "name": "stdout"
        }
      ]
    },
    {
      "cell_type": "markdown",
      "metadata": {
        "id": "v69ZmZOE3I-3",
        "colab_type": "text"
      },
      "source": [
        "# Construct Generator\n",
        "## Generator has 2 Convolutional layers, and 2 Linear layers as per specification by the authors of the Ambient GAN paper"
      ]
    },
    {
      "cell_type": "code",
      "metadata": {
        "id": "dcjMin2eTxCu",
        "colab_type": "code",
        "colab": {}
      },
      "source": [
        "class ModelG(nn.Module):\n",
        "    def __init__(self):\n",
        "        self.z_dim = 100\n",
        "        super(ModelG, self).__init__()\n",
        "        self.fc2 = nn.Linear(10, 1000)\n",
        "        self.fc = nn.Linear(self.z_dim+1000, 64*28*28)\n",
        "        self.bn1 = nn.BatchNorm2d(64)\n",
        "        self.deconv1 = nn.ConvTranspose2d(64, 32, 5, 1, 2)\n",
        "        self.bn2 = nn.BatchNorm2d(32)\n",
        "        self.deconv2 = nn.ConvTranspose2d(32, 1, 5, 1, 2)\n",
        "    #weight_init\n",
        "    \n",
        "    def weight_init(self, mean, std):\n",
        "      for m in self._modules:\n",
        "        normal_init(self._modules[m], mean, std)\n",
        "        \n",
        "    def forward(self, x, labels):\n",
        "        batch_size = x.size(0)\n",
        "        y_ = self.fc2(labels)\n",
        "        y_ = F.relu(y_)\n",
        "        x = torch.cat([x, y_], 1)\n",
        "        x = self.fc(x)\n",
        "        x = x.view(batch_size, 64, 28, 28)\n",
        "        x = self.bn1(x) \n",
        "        x = F.relu(x)\n",
        "        x = self.deconv1(x)\n",
        "        x = self.bn2(x)\n",
        "        x = F.relu(x)\n",
        "        x = self.deconv2(x)\n",
        "        x = torch.tanh(x)\n",
        "        return x"
      ],
      "execution_count": 0,
      "outputs": []
    },
    {
      "cell_type": "markdown",
      "metadata": {
        "id": "7yXUAWZ83LUY",
        "colab_type": "text"
      },
      "source": [
        "# Construct Discriminator"
      ]
    },
    {
      "cell_type": "code",
      "metadata": {
        "id": "OX0V5VJ8UCdt",
        "colab_type": "code",
        "colab": {}
      },
      "source": [
        "class ModelD(nn.Module):\n",
        "    def __init__(self):\n",
        "        super(ModelD, self).__init__()\n",
        "        self.conv1 = nn.Conv2d(1, 32, 5, 1, 2)\n",
        "        self.bn1 = nn.BatchNorm2d(32)\n",
        "        self.conv2 = nn.Conv2d(32, 64, 5, 1, 2)\n",
        "        self.bn2 = nn.BatchNorm2d(64)\n",
        "        self.fc1  = nn.Linear(64*28*28+1000, 1024)\n",
        "        self.fc2 = nn.Linear(1024, 1)\n",
        "        self.fc3 = nn.Linear(10, 1000)\n",
        "    # weight_init\n",
        "    \n",
        "    def weight_init(self, mean, std):\n",
        "      for m in self._modules:\n",
        "        normal_init(self._modules[m], mean, std)\n",
        "           \n",
        "    def forward(self, x, labels):\n",
        "        batch_size = x.size(0)\n",
        "        x = x.view(batch_size, 1, 28,28)\n",
        "        x = self.conv1(x)\n",
        "        x = self.bn1(x)\n",
        "        x = F.relu(x)\n",
        "        x = self.conv2(x)\n",
        "        x = self.bn2(x)\n",
        "        x = F.relu(x)\n",
        "        x = x.view(batch_size, 64*28*28)\n",
        "        y_ = self.fc3(labels)\n",
        "        y_ = F.relu(y_)\n",
        "        x = torch.cat([x, y_], 1)\n",
        "        x = self.fc1(x)\n",
        "        x = F.relu(x)\n",
        "        x = self.fc2(x)\n",
        "        return torch.sigmoid(x)"
      ],
      "execution_count": 0,
      "outputs": []
    },
    {
      "cell_type": "markdown",
      "metadata": {
        "id": "UO-yBKld3Os4",
        "colab_type": "text"
      },
      "source": [
        "# Provision to Initialize weights in D and G"
      ]
    },
    {
      "cell_type": "code",
      "metadata": {
        "id": "x6Gsd24aWxMe",
        "colab_type": "code",
        "colab": {}
      },
      "source": [
        "def normal_init(m, mean, std):\n",
        "    if isinstance(m, nn.ConvTranspose2d) or isinstance(m, nn.Conv2d):\n",
        "        m.weight.data.normal_(mean, std)\n",
        "        m.bias.data.zero_()"
      ],
      "execution_count": 0,
      "outputs": []
    },
    {
      "cell_type": "code",
      "metadata": {
        "id": "9uaFvzQK2-9N",
        "colab_type": "code",
        "colab": {}
      },
      "source": [
        "INPUT_SIZE = 784\n",
        "SAMPLE_SIZE = 1000\n",
        "NUM_LABELS = 10"
      ],
      "execution_count": 0,
      "outputs": []
    },
    {
      "cell_type": "code",
      "metadata": {
        "id": "PLXF1B2suifZ",
        "colab_type": "code",
        "colab": {}
      },
      "source": [
        "model_d = ModelD()\n",
        "model_g = ModelG()\n",
        "criterion = nn.BCELoss()\n",
        "input = torch.FloatTensor(128, INPUT_SIZE)\n",
        "noise = torch.FloatTensor(128, (100))\n",
        "    \n"
      ],
      "execution_count": 0,
      "outputs": []
    },
    {
      "cell_type": "code",
      "metadata": {
        "id": "aduBuilduUoW",
        "colab_type": "code",
        "colab": {}
      },
      "source": [
        "fixed_noise = torch.FloatTensor(SAMPLE_SIZE, 100).normal_(0,1)\n",
        "fixed_labels = torch.zeros(SAMPLE_SIZE, NUM_LABELS)\n",
        "\n",
        "\n",
        "for i in range(NUM_LABELS):\n",
        "  for j in range(SAMPLE_SIZE // NUM_LABELS):\n",
        "    fixed_labels[i*(SAMPLE_SIZE // NUM_LABELS) + j, i] = 1.0\n",
        "    \n",
        "label = torch.FloatTensor(128)\n",
        "one_hot_labels = torch.FloatTensor(128, 10)"
      ],
      "execution_count": 0,
      "outputs": []
    },
    {
      "cell_type": "code",
      "metadata": {
        "id": "KEC8r-TvuX82",
        "colab_type": "code",
        "outputId": "12b8a860-0020-45a4-ddc1-403c371b2d28",
        "colab": {
          "base_uri": "https://localhost:8080/",
          "height": 159
        }
      },
      "source": [
        "model_d.weight_init(mean=0.0, std=0.05)\n",
        "model_d.cuda()\n",
        "model_g.weight_init(mean=0.0, std=0.05)\n",
        "model_g.cuda()"
      ],
      "execution_count": 0,
      "outputs": [
        {
          "output_type": "execute_result",
          "data": {
            "text/plain": [
              "ModelG(\n",
              "  (fc2): Linear(in_features=10, out_features=1000, bias=True)\n",
              "  (fc): Linear(in_features=1100, out_features=50176, bias=True)\n",
              "  (bn1): BatchNorm2d(64, eps=1e-05, momentum=0.1, affine=True, track_running_stats=True)\n",
              "  (deconv1): ConvTranspose2d(64, 32, kernel_size=(5, 5), stride=(1, 1), padding=(2, 2))\n",
              "  (bn2): BatchNorm2d(32, eps=1e-05, momentum=0.1, affine=True, track_running_stats=True)\n",
              "  (deconv2): ConvTranspose2d(32, 1, kernel_size=(5, 5), stride=(1, 1), padding=(2, 2))\n",
              ")"
            ]
          },
          "metadata": {
            "tags": []
          },
          "execution_count": 23
        }
      ]
    },
    {
      "cell_type": "code",
      "metadata": {
        "id": "8R_IXbg5ulWx",
        "colab_type": "code",
        "colab": {}
      },
      "source": [
        "\n",
        "input, label = input.cuda(), label.cuda()\n",
        "noise, fixed_noise = noise.cuda(), fixed_noise.cuda()\n",
        "fixed_labels = fixed_labels.cuda()\n",
        "\n",
        "optim_d = optim.SGD(model_d.parameters(), lr=0.01)\n",
        "optim_g = optim.SGD(model_g.parameters(), lr=0.01)\n",
        "fixed_noise = Variable(fixed_noise.cuda())\n",
        "fixed_labels = Variable(fixed_labels.cuda())\n",
        "\n",
        "real_label = 1\n",
        "fake_label = 0"
      ],
      "execution_count": 0,
      "outputs": []
    },
    {
      "cell_type": "markdown",
      "metadata": {
        "id": "7zrPH8xOztKO",
        "colab_type": "text"
      },
      "source": [
        "# Create custom dataset\n",
        "## create a dataset out of the images read from drive before feeding it to model"
      ]
    },
    {
      "cell_type": "code",
      "metadata": {
        "id": "fPxnam-NzwxS",
        "colab_type": "code",
        "colab": {}
      },
      "source": [
        "class MyDataset(Dataset):\n",
        "    def __init__(self, file_paths, Labels, transform=None):\n",
        "        self.file_paths = file_paths\n",
        "        self.Labels = Labels\n",
        "        self.transform = transforms.Compose([transforms.ToPILImage(),\n",
        "                                             #transforms.Resize(img_size),\n",
        "                                              transforms.ToTensor(),\n",
        "                                             transforms.Normalize(mean=[0.5],std=[0.5])])\n",
        "        \n",
        "    def __getitem__(self, index):\n",
        "        x = torch.load(self.file_paths[index])\n",
        "        y = self.Labels[index]\n",
        "        \n",
        "        if self.transform:\n",
        "            x = self.transform(x)\n",
        "            \n",
        "        return x, y\n",
        "    \n",
        "    def __len__(self):\n",
        "        return len(self.file_paths)"
      ],
      "execution_count": 0,
      "outputs": []
    },
    {
      "cell_type": "code",
      "metadata": {
        "id": "uBYGdEzr1L_e",
        "colab_type": "code",
        "colab": {}
      },
      "source": [
        "customdataset = MyDataset(listOfFiles, Labels)\n",
        "trainloader = DataLoader(\n",
        "    customdataset,\n",
        "    batch_size=128,\n",
        "    shuffle=True,\n",
        "    num_workers=4,\n",
        "    pin_memory=torch.cuda.is_available()\n",
        ")"
      ],
      "execution_count": 0,
      "outputs": []
    },
    {
      "cell_type": "code",
      "metadata": {
        "id": "l6V9EoEf1SZ2",
        "colab_type": "code",
        "outputId": "ba8359aa-757b-4d0e-bc4b-b5097c95312b",
        "colab": {
          "base_uri": "https://localhost:8080/",
          "height": 35
        }
      },
      "source": [
        "len(customdataset)"
      ],
      "execution_count": 0,
      "outputs": [
        {
          "output_type": "execute_result",
          "data": {
            "text/plain": [
              "38904"
            ]
          },
          "metadata": {
            "tags": []
          },
          "execution_count": 27
        }
      ]
    },
    {
      "cell_type": "markdown",
      "metadata": {
        "id": "WKN9jxsMgKui",
        "colab_type": "text"
      },
      "source": [
        "# Train GAN"
      ]
    },
    {
      "cell_type": "code",
      "metadata": {
        "id": "VVmG4dgj2d-Q",
        "colab_type": "code",
        "colab": {}
      },
      "source": [
        "d_per_epoch_loss = []\n",
        "g_per_epoch_loss = []\n",
        "\n",
        "\n",
        "for epoch_idx in range(25):\n",
        "  \n",
        "  epoch_start_time = time.time()\n",
        "  \n",
        "  model_d.train()\n",
        "  model_g.train()\n",
        "  # learning rate decay\n",
        "  if (epoch_idx+1) == 15:\n",
        "        optim_d.param_groups[0]['lr'] /= 10\n",
        "        optim_g.param_groups[0]['lr'] /= 10\n",
        "        print(\"learning rate change!\")\n",
        "\n",
        "  if (epoch_idx+1) == 20:\n",
        "        optim_d.param_groups[0]['lr'] /= 10\n",
        "        optim_g.param_groups[0]['lr'] /= 10\n",
        "        print(\"learning rate change!\")\n",
        "\n",
        "  d_loss = []\n",
        "  g_loss = []\n",
        "  \n",
        "  for batch_idx, (train_x, train_y) in enumerate(trainloader):\n",
        "\n",
        "    batch_size = train_x.size(0)\n",
        "\n",
        "    train_x = train_x.view(-1, INPUT_SIZE)\n",
        "   \n",
        "    train_x = train_x.cuda()\n",
        "    train_y = train_y.cuda()\n",
        "\n",
        "    input.resize_as_(train_x).copy_(train_x)\n",
        "    label.resize_(batch_size).fill_(real_label)\n",
        "    one_hot_labels.resize_(batch_size, NUM_LABELS).zero_()\n",
        "    one_hot_labels = one_hot_labels.cuda()\n",
        "    one_hot_labels.scatter_(1, train_y.view(batch_size,1), 1)\n",
        "    inputv = Variable(input)\n",
        "    labelv = Variable(label)\n",
        "    \n",
        "    # ## Train D with all-real batch\n",
        "    output = model_d(inputv, Variable(one_hot_labels)) # Forward pass real batch through D\n",
        "    optim_d.zero_grad() # Calculate gradients for D in backward pass\n",
        "    errD_real = criterion(output, labelv) #nn.BCELoss() # Calculate loss on all-real batch\n",
        "    errD_real.backward()# Calculate gradients for D in backward pass\n",
        "    realD_mean = output.data.cpu().mean()\n",
        "    \n",
        "    # ## Train D with fake batch\n",
        "    one_hot_labels.zero_()\n",
        "    rand_y = torch.from_numpy(\n",
        "    np.random.randint(0, NUM_LABELS, size=(batch_size,1))).cuda()\n",
        "    one_hot_labels.scatter_(1, rand_y.view(batch_size,1), 1)\n",
        "    noise.resize_(batch_size, 100).normal_(0,1)\n",
        "    label.resize_(batch_size).fill_(fake_label)\n",
        "    noisev = Variable(noise)\n",
        "    labelv = Variable(label)\n",
        "    onehotv = Variable(one_hot_labels)\n",
        "    g_out = model_g(noisev, onehotv)\n",
        "    output = model_d(g_out, onehotv)\n",
        "    errD_fake = criterion(output, labelv)\n",
        "    fakeD_mean = output.data.cpu().mean()\n",
        "    \n",
        "    # Add the gradients from the all-real and all-fake batches\n",
        "    errD = errD_real + errD_fake\n",
        "    errD_fake.backward()\n",
        "    optim_d.step() # optimize\n",
        "\n",
        "    # train the G\n",
        "    noise.normal_(0,1)\n",
        "    one_hot_labels.zero_()\n",
        "    rand_y = torch.from_numpy(\n",
        "    np.random.randint(0, NUM_LABELS, size=(batch_size,1))).cuda()\n",
        "    one_hot_labels.scatter_(1, rand_y.view(batch_size,1), 1)\n",
        "    label.resize_(batch_size).fill_(real_label)\n",
        "    onehotv = Variable(one_hot_labels)\n",
        "    noisev = Variable(noise)\n",
        "    labelv = Variable(label)\n",
        "    g_out = model_g(noisev, onehotv)\n",
        "    output = model_d(g_out, onehotv)\n",
        "    errG = criterion(output, labelv)\n",
        "    optim_g.zero_grad()\n",
        "    errG.backward()\n",
        "    optim_g.step()\n",
        "  \n",
        "  \n",
        "    d_loss.append(errD)\n",
        "    g_loss.append(errG)\n",
        "    \n",
        "  epoch_end_time = time.time()  \n",
        "  \n",
        "  #g_out = model_g(fixed_noise, fixed_labels).data.view(SAMPLE_SIZE, 1, 28,28).cpu()\n",
        "  #save_image(g_out, '{}/{}.png'.format('/content/drive/My Drive/p_0.99/res_no_norm', epoch_idx))\n",
        " \n",
        "  \n",
        "  d_per_epoch_loss.append(torch.mean(torch.stack(d_loss),dim=0)) \n",
        "  g_per_epoch_loss.append(torch.mean(torch.stack(g_loss),dim=0))\n",
        "  \n",
        "  #data_to_is = for_is_calc(g_out)\n",
        "  #IS_DATA = DataLoader(data_to_is, shuffle=True, num_workers=4, pin_memory=torch.cuda.is_available())\n",
        "  \n",
        "  #if epoch_idx==24:\n",
        "  #  IScore.append(inception_score(data_to_is,cuda=True,resize=True,splits=10))\n",
        "  \n",
        "  \n",
        "  print('Epoch {} - D loss = {:.4f}, G loss = {:.4f}, Time taken in sec = {:.4f}'.format(epoch_idx, d_per_epoch_loss[epoch_idx], g_per_epoch_loss[epoch_idx],epoch_end_time-epoch_start_time))\n",
        "  #print(IScore)\n",
        "  \n"
      ],
      "execution_count": 0,
      "outputs": []
    },
    {
      "cell_type": "markdown",
      "metadata": {
        "id": "1Fto-hJfwVv9",
        "colab_type": "text"
      },
      "source": [
        "# Calculate Inception Score"
      ]
    },
    {
      "cell_type": "code",
      "metadata": {
        "id": "HuDqNFSKFRAE",
        "colab_type": "code",
        "outputId": "7ffb250b-fa2f-40e8-83d7-52d73f71775d",
        "colab": {
          "base_uri": "https://localhost:8080/",
          "height": 301
        }
      },
      "source": [
        "import numpy as np\n",
        "import datetime\n",
        "import os, sys\n",
        "try: \n",
        "    import torchbearer\n",
        "except:\n",
        "    !pip install torchbearer\n",
        "import matplotlib.pyplot as plt\n",
        "from torchvision.transforms import ToTensor\n",
        "from skimage import color, data, restoration\n",
        "from scipy.signal import convolve2d\n",
        "from PIL import Image\n",
        "import glob\n",
        "from scipy.ndimage.filters import gaussian_filter\n",
        "import numpy as np\n",
        "import torchvision.transforms as transforms\n",
        "from matplotlib.pyplot import imshow, imsave\n",
        "%matplotlib inline\n",
        "import torchvision.utils as vutils\n",
        "import numpy as np\n",
        "import matplotlib.pyplot as plt\n",
        "import matplotlib.animation as animation\n",
        "from IPython.display import HTML"
      ],
      "execution_count": 0,
      "outputs": [
        {
          "output_type": "stream",
          "text": [
            "Collecting torchbearer\n",
            "\u001b[?25l  Downloading https://files.pythonhosted.org/packages/5a/62/79c45d98e22e87b44c9b354d1b050526de80ac8a4da777126b7c86c2bb3e/torchbearer-0.3.0.tar.gz (84kB)\n",
            "\u001b[K     |████████████████████████████████| 92kB 3.5MB/s \n",
            "\u001b[?25hRequirement already satisfied: torch>=0.4 in /usr/local/lib/python3.6/dist-packages (from torchbearer) (1.1.0)\n",
            "Requirement already satisfied: torchvision in /usr/local/lib/python3.6/dist-packages (from torchbearer) (0.2.2.post3)\n",
            "Requirement already satisfied: tqdm in /usr/local/lib/python3.6/dist-packages (from torchbearer) (4.28.1)\n",
            "Requirement already satisfied: numpy in /usr/local/lib/python3.6/dist-packages (from torch>=0.4->torchbearer) (1.16.3)\n",
            "Requirement already satisfied: six in /usr/local/lib/python3.6/dist-packages (from torchvision->torchbearer) (1.12.0)\n",
            "Requirement already satisfied: pillow>=4.1.1 in /usr/local/lib/python3.6/dist-packages (from torchvision->torchbearer) (4.3.0)\n",
            "Requirement already satisfied: olefile in /usr/local/lib/python3.6/dist-packages (from pillow>=4.1.1->torchvision->torchbearer) (0.46)\n",
            "Building wheels for collected packages: torchbearer\n",
            "  Building wheel for torchbearer (setup.py) ... \u001b[?25l\u001b[?25hdone\n",
            "  Stored in directory: /root/.cache/pip/wheels/6c/cb/69/466aef9cee879fb8f645bd602e34d45e754fb3dee2cb1a877a\n",
            "Successfully built torchbearer\n",
            "Installing collected packages: torchbearer\n",
            "Successfully installed torchbearer-0.3.0\n"
          ],
          "name": "stdout"
        }
      ]
    },
    {
      "cell_type": "markdown",
      "metadata": {
        "id": "l6q_bEH-wbdd",
        "colab_type": "text"
      },
      "source": [
        "## We use the Better CNN model we created during labs, that gave >99% accuracy on prediction for MNIST dataset"
      ]
    },
    {
      "cell_type": "code",
      "metadata": {
        "id": "5WtmpccoFXy1",
        "colab_type": "code",
        "colab": {}
      },
      "source": [
        "import torch \n",
        "import torch.nn.functional as F\n",
        "from torch import nn\n",
        "\n",
        "# Model Definition\n",
        "class BetterCNN(nn.Module):\n",
        "    def __init__(self):\n",
        "        super(BetterCNN, self).__init__()\n",
        "        self.conv1 = nn.Conv2d(1, 30, (5, 5), padding=0)\n",
        "        self.conv2 = nn.Conv2d(30, 15, (3, 3), padding=0)\n",
        "        self.fc1 = nn.Linear(15 * 5**2, 128)\n",
        "        self.fc2 = nn.Linear(128, 50)\n",
        "        self.fc3 = nn.Linear(50, 10)\n",
        "    \n",
        "    def forward(self, x):\n",
        "        out = self.conv1(x)\n",
        "        out = F.relu(out)\n",
        "        out = F.max_pool2d(out, (2,2))\n",
        "        out = self.conv2(out)\n",
        "        out = F.relu(out)\n",
        "        out = F.max_pool2d(out, (2,2))\n",
        "        out = F.dropout(out,0.2)\n",
        "        out = out.view(out.shape[0], -1)\n",
        "        out = self.fc1(out)\n",
        "        out = F.relu(out)\n",
        "        out = self.fc2(out)\n",
        "        out = F.relu(out)\n",
        "        out = self.fc3(out)\n",
        "        return out "
      ],
      "execution_count": 0,
      "outputs": []
    },
    {
      "cell_type": "code",
      "metadata": {
        "id": "Mb8Im1nvFc-M",
        "colab_type": "code",
        "colab": {}
      },
      "source": [
        "from torchvision.models.inception import inception_v3\n",
        "from torch.autograd import Variable\n",
        "import numpy as np\n",
        "from scipy.stats import entropy\n",
        "\n",
        "def inception_score(imgs, cuda=True, batch_size=32, resize=False, splits=1):\n",
        "    \"\"\"Computes the inception score of the generated images imgs\n",
        "    imgs -- Torch dataset of (3xHxW) numpy images normalized in the range [-1, 1]\n",
        "    cuda -- whether or not to run on GPU\n",
        "    batch_size -- batch size for feeding into Inception v3\n",
        "    splits -- number of splits\n",
        "    \"\"\"\n",
        "    N = len(imgs)\n",
        "    print(N)\n",
        "    print(type(imgs))\n",
        "\n",
        "    assert batch_size > 0\n",
        "    assert N > batch_size\n",
        "\n",
        "    # Set up dtype\n",
        "    if cuda:\n",
        "        dtype = torch.cuda.FloatTensor\n",
        "    else:\n",
        "        if torch.cuda.is_available():\n",
        "            print(\"WARNING: You have a CUDA device, so you should probably set cuda=True\")\n",
        "        dtype = torch.FloatTensor\n",
        "\n",
        "    # Set up dataloader\n",
        "    dataloader = torch.utils.data.DataLoader(imgs, batch_size=batch_size)\n",
        "\n",
        "    inception_model = BetterCNN()\n",
        "    inception_model.load_state_dict(torch.load('/content/drive/My Drive/Colab Notebooks/bettercnn.weights'))\n",
        "    inception_model.eval();\n",
        "\n",
        "   # up = nn.Upsample(size=(299, 299), mode='bilinear').type(dtype)\n",
        "    def get_pred(x):\n",
        "        if resize:\n",
        "            x = up(x)\n",
        "        x = inception_model(x)\n",
        "        return F.softmax(x).data.cpu().numpy()\n",
        "\n",
        "    # Get predictions\n",
        "    preds = np.zeros((N, 10))\n",
        "\n",
        "    #for i, batch in enumerate(dataloader,0):\n",
        "        #batchv = Variable(batch[0])\n",
        "        #print(batchv.size())\n",
        "        #preds[i*batch_size:i*batch_size + batch_size] = get_pred(batchv)\n",
        "    print(imgs.size())\n",
        "    preds = get_pred(imgs)\n",
        "    # Now compute the mean kl-div\n",
        "    split_scores = []\n",
        "\n",
        "    for k in range(splits):\n",
        "        part = preds[k * (N // splits): (k+1) * (N // splits), :]\n",
        "        py = np.mean(part, axis=0)\n",
        "        scores = []\n",
        "        for i in range(part.shape[0]):\n",
        "            pyx = part[i, :]\n",
        "            scores.append(entropy(pyx, py))\n",
        "        split_scores.append(np.exp(np.mean(scores)))\n",
        "\n",
        "       \n",
        "    return np.mean(split_scores), np.std(split_scores)"
      ],
      "execution_count": 0,
      "outputs": []
    },
    {
      "cell_type": "markdown",
      "metadata": {
        "id": "94j2LFikwoRM",
        "colab_type": "text"
      },
      "source": [
        "## Send 1000 images to Inception score module"
      ]
    },
    {
      "cell_type": "code",
      "metadata": {
        "id": "UotIyZgZIE39",
        "colab_type": "code",
        "colab": {}
      },
      "source": [
        "g_out = model_g(fixed_noise, fixed_labels).data.view(1000, 1, 28,28).cpu()"
      ],
      "execution_count": 0,
      "outputs": []
    },
    {
      "cell_type": "code",
      "metadata": {
        "id": "v8dyg_kqIH3-",
        "colab_type": "code",
        "outputId": "e740bc68-38f3-4c81-8f9a-a195f6089e6b",
        "colab": {
          "base_uri": "https://localhost:8080/",
          "height": 35
        }
      },
      "source": [
        "type(g_out)"
      ],
      "execution_count": 0,
      "outputs": [
        {
          "output_type": "execute_result",
          "data": {
            "text/plain": [
              "torch.Tensor"
            ]
          },
          "metadata": {
            "tags": []
          },
          "execution_count": 34
        }
      ]
    },
    {
      "cell_type": "code",
      "metadata": {
        "id": "l1mI5VtFUCUB",
        "colab_type": "code",
        "colab": {}
      },
      "source": [
        "scores = []"
      ],
      "execution_count": 0,
      "outputs": []
    },
    {
      "cell_type": "markdown",
      "metadata": {
        "id": "Hyj6Iu7xwuaT",
        "colab_type": "text"
      },
      "source": [
        "## Record score for images of different amounts of measurement(p=0,0.1,0.5,0.8,0.9,0.95,0.99)"
      ]
    },
    {
      "cell_type": "code",
      "metadata": {
        "id": "br1jpli05upW",
        "colab_type": "code",
        "outputId": "15dbb616-57d4-46a0-b298-d08ac9637068",
        "colab": {
          "base_uri": "https://localhost:8080/",
          "height": 108
        }
      },
      "source": [
        "scores.append(inception_score(g_out, cuda=True, batch_size=32, resize=False, splits=1)) "
      ],
      "execution_count": 0,
      "outputs": [
        {
          "output_type": "stream",
          "text": [
            "1000\n",
            "<class 'torch.Tensor'>\n",
            "torch.Size([1000, 1, 28, 28])\n"
          ],
          "name": "stdout"
        },
        {
          "output_type": "stream",
          "text": [
            "/usr/local/lib/python3.6/dist-packages/ipykernel_launcher.py:40: UserWarning: Implicit dimension choice for softmax has been deprecated. Change the call to include dim=X as an argument.\n"
          ],
          "name": "stderr"
        }
      ]
    },
    {
      "cell_type": "code",
      "metadata": {
        "id": "ZLRNHdreAVPz",
        "colab_type": "code",
        "colab": {}
      },
      "source": [
        "print(scores) "
      ],
      "execution_count": 0,
      "outputs": []
    },
    {
      "cell_type": "code",
      "metadata": {
        "id": "INotbUIiUNFY",
        "colab_type": "code",
        "colab": {}
      },
      "source": [
        "baseline_scores = [9.78,8.43,7.00, 6.84,3.63,2.87,1.73]\n",
        "ambient_gan_scores = [9.96,9.93,9.85,9.5,8.2,7.01,5.58] # collected from other gan\n",
        "vanilla_gan_scores = [9.94,6.93,3.13,1.50,1.21,1.19,1.05] # collected from other gan\n",
        "p_values = [0,0.1,0.5,0.8,0.9,0.95,0.99]\n"
      ],
      "execution_count": 0,
      "outputs": []
    },
    {
      "cell_type": "code",
      "metadata": {
        "id": "WwVtMzorXwdX",
        "colab_type": "code",
        "outputId": "83b4511a-3daa-4643-9e2d-6f2305c29caa",
        "colab": {
          "base_uri": "https://localhost:8080/",
          "height": 35
        }
      },
      "source": [
        "!pwd"
      ],
      "execution_count": 0,
      "outputs": [
        {
          "output_type": "stream",
          "text": [
            "/content\n"
          ],
          "name": "stdout"
        }
      ]
    },
    {
      "cell_type": "code",
      "metadata": {
        "id": "bjUzlSY5Vw_k",
        "colab_type": "code",
        "outputId": "8eb9ad0b-544f-4981-8f16-e08720684749",
        "colab": {
          "base_uri": "https://localhost:8080/",
          "height": 283
        }
      },
      "source": [
        "\n",
        "plt.plot(p_values,baseline_scores,c = 'g',label = 'Baseline')\n",
        "\n",
        "plt.plot(p_values,ambient_gan_scores,c = 'b',label = 'Ambient GAN')\n",
        "\n",
        "plt.plot(p_values,vanilla_gan_scores,c = 'r',label = 'Vanilla GAN')\n",
        "\n",
        "plt.xlabel('Block probability')\n",
        "plt.ylabel('Inception Score')\n",
        "plt.legend()\n",
        "plt.savefig('final.png')"
      ],
      "execution_count": 0,
      "outputs": [
        {
          "output_type": "display_data",
          "data": {
            "image/png": "[encoded data removed]",
            "text/plain": [
              "<Figure size 432x288 with 1 Axes>"
            ]
          },
          "metadata": {
            "tags": []
          }
        }
      ]
    }
  ]
}
